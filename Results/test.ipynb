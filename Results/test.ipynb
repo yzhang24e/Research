{
 "cells": [
  {
   "cell_type": "code",
   "execution_count": 1,
   "metadata": {},
   "outputs": [],
   "source": [
    "import numpy as np\n",
    "from scipy.optimize import curve_fit\n",
    "import os\n",
    "import matplotlib.pyplot as plt\n",
    "import pylab\n",
    "%matplotlib inline\n",
    "from astropy.io import fits\n",
    "from astropy import units as u\n",
    "from astropy.visualization import simple_norm\n",
    "import aplpy\n",
    "from matplotlib.pyplot import figure\n",
    "from astropy.wcs import WCS\n",
    "from astropy import coordinates as coord\n",
    "from astropy.coordinates import SkyCoord\n",
    "from astropy.utils.data import get_pkg_data_filename\n",
    "from astropy.stats import mad_std, sigma_clipped_stats\n",
    "#astropy.nddata.utils\n",
    "from astropy import wcs\n",
    "from tqdm import tqdm\n",
    "from astropy.table import Table, QTable\n",
    "from tabulate import tabulate\n",
    "\n",
    "from photutils.detection import DAOStarFinder\n",
    "from astropy.stats import mad_std\n",
    "\n",
    "from photutils.aperture import aperture_photometry, CircularAperture, CircularAnnulus, SkyCircularAperture, ApertureStats\n",
    "from astropy.visualization import SqrtStretch\n",
    "from astropy.visualization.mpl_normalize import ImageNormalize\n",
    "from photutils.background import Background2D, interpolators\n",
    "from photutils.utils import calc_total_error\n",
    "from scipy import ndimage\n",
    "\n",
    "from scipy import stats"
   ]
  },
  {
   "cell_type": "code",
   "execution_count": null,
   "metadata": {},
   "outputs": [],
   "source": []
  }
 ],
 "metadata": {
  "kernelspec": {
   "display_name": "Python 3",
   "language": "python",
   "name": "python3"
  },
  "language_info": {
   "codemirror_mode": {
    "name": "ipython",
    "version": 3
   },
   "file_extension": ".py",
   "mimetype": "text/x-python",
   "name": "python",
   "nbconvert_exporter": "python",
   "pygments_lexer": "ipython3",
   "version": "3.11.4"
  }
 },
 "nbformat": 4,
 "nbformat_minor": 2
}
